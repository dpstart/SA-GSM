{
 "cells": [
  {
   "cell_type": "code",
   "execution_count": 1,
   "metadata": {},
   "outputs": [
    {
     "ename": "ModuleNotFoundError",
     "evalue": "No module named 'torch'",
     "output_type": "error",
     "traceback": [
      "\u001b[0;31m---------------------------------------------------------------------------\u001b[0m",
      "\u001b[0;31mModuleNotFoundError\u001b[0m                       Traceback (most recent call last)",
      "\u001b[0;32m<ipython-input-1-da57a34dbd84>\u001b[0m in \u001b[0;36m<module>\u001b[0;34m\u001b[0m\n\u001b[0;32m----> 1\u001b[0;31m \u001b[0;32mimport\u001b[0m \u001b[0mtorch\u001b[0m\u001b[0;34m\u001b[0m\u001b[0;34m\u001b[0m\u001b[0m\n\u001b[0m\u001b[1;32m      2\u001b[0m \u001b[0;32mimport\u001b[0m \u001b[0mtorchvision\u001b[0m\u001b[0;34m\u001b[0m\u001b[0;34m\u001b[0m\u001b[0m\n\u001b[1;32m      3\u001b[0m \u001b[0;34m\u001b[0m\u001b[0m\n\u001b[1;32m      4\u001b[0m \u001b[0;32mfrom\u001b[0m \u001b[0mdataset\u001b[0m \u001b[0;32mimport\u001b[0m \u001b[0mVideoDataset\u001b[0m\u001b[0;34m\u001b[0m\u001b[0;34m\u001b[0m\u001b[0m\n\u001b[1;32m      5\u001b[0m \u001b[0;32mfrom\u001b[0m \u001b[0mdataset_video\u001b[0m \u001b[0;32mimport\u001b[0m \u001b[0mreturn_dataset\u001b[0m\u001b[0;34m\u001b[0m\u001b[0;34m\u001b[0m\u001b[0m\n",
      "\u001b[0;31mModuleNotFoundError\u001b[0m: No module named 'torch'"
     ]
    }
   ],
   "source": [
    "import torch\n",
    "import torchvision\n",
    "\n",
    "from dataset import VideoDataset\n",
    "from dataset_video import return_dataset\n",
    "\n",
    "from transforms import *"
   ]
  },
  {
   "cell_type": "code",
   "execution_count": 33,
   "metadata": {},
   "outputs": [
    {
     "name": "stdout",
     "output_type": "stream",
     "text": [
      "video number:1\n"
     ]
    }
   ],
   "source": [
    "train_videofolder, _, _, _ = return_dataset(\"something-v1\")\n",
    "\n",
    "rgb_prefix = ''\n",
    "rgb_read_format = \"{:05d}.jpg\"\n",
    "\n",
    "train_loader = torch.utils.data.DataLoader(\n",
    "    VideoDataset(\"dataset/something-v1/20bn-something-something-v1\", train_videofolder, num_segments=8,\n",
    "               new_length=1,\n",
    "               modality=\"RGB\",\n",
    "               image_tmpl=rgb_prefix+rgb_read_format,\n",
    "               transform=torchvision.transforms.Compose([\n",
    "                    #Stack(roll=True),\n",
    "                    ToTorchFormatTensor(div=True),\n",
    "               ])),\n",
    "    batch_size=16, shuffle=True,\n",
    "    num_workers=4, pin_memory=True)"
   ]
  },
  {
   "cell_type": "code",
   "execution_count": 37,
   "metadata": {},
   "outputs": [
    {
     "name": "stdout",
     "output_type": "stream",
     "text": [
      "video number:1\n"
     ]
    }
   ],
   "source": [
    "data = VideoDataset(\"dataset/something-v1/20bn-something-something-v1\", train_videofolder, num_segments=8,\n",
    "               new_length=1,\n",
    "               modality=\"RGB\",\n",
    "               image_tmpl=rgb_prefix+rgb_read_format,\n",
    "               transform=torchvision.transforms.Compose([\n",
    "                    #Stack(roll=True),\n",
    "                    ToTorchFormatTensor(div=True),\n",
    "               ]))"
   ]
  },
  {
   "cell_type": "code",
   "execution_count": 2,
   "metadata": {},
   "outputs": [],
   "source": [
    "from models import VideoModel"
   ]
  },
  {
   "cell_type": "code",
   "execution_count": 5,
   "metadata": {},
   "outputs": [
    {
     "name": "stdout",
     "output_type": "stream",
     "text": [
      "Number of segments = 8\n",
      "\n",
      "    Initializing Video Model with backbone: BNInception.\n",
      "    Model Configurations:\n",
      "        input_modality:     RGB\n",
      "        num_segments:       8\n",
      "        new_length:         1\n",
      "        consensus_module:   avg\n",
      "        dropout_ratio:      True\n",
      "            \n"
     ]
    },
    {
     "name": "stderr",
     "output_type": "stream",
     "text": [
      "Downloading: \"https://yjxiong.blob.core.windows.net/models/bn_inception-9f5701afb96c8044.pth\" to /home/daniele/.cache/torch/checkpoints/bn_inception-9f5701afb96c8044.pth\n",
      "100.0%\n"
     ]
    }
   ],
   "source": [
    "model = VideoModel(num_class=174, modality=\"RGB\", num_segments=8,\n",
    "                       base_model=\"BNInception\", consensus_type=\"avg\", dropout=True,\n",
    "                       partial_bn=False, gsm=False, target_transform=None)"
   ]
  },
  {
   "cell_type": "code",
   "execution_count": null,
   "metadata": {},
   "outputs": [],
   "source": []
  }
 ],
 "metadata": {
  "kernelspec": {
   "display_name": "Python 3",
   "language": "python",
   "name": "python3"
  },
  "language_info": {
   "codemirror_mode": {
    "name": "ipython",
    "version": 3
   },
   "file_extension": ".py",
   "mimetype": "text/x-python",
   "name": "python",
   "nbconvert_exporter": "python",
   "pygments_lexer": "ipython3",
   "version": "3.7.5"
  }
 },
 "nbformat": 4,
 "nbformat_minor": 4
}
